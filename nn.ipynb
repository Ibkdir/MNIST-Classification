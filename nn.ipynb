{
 "cells": [
  {
   "cell_type": "code",
   "execution_count": 19,
   "metadata": {},
   "outputs": [],
   "source": [
    "import numpy as np\n",
    "import pandas as pd\n",
    "import matplotlib.pyplot as plt"
   ]
  },
  {
   "cell_type": "code",
   "execution_count": 20,
   "metadata": {},
   "outputs": [],
   "source": [
    "# Training Data\n",
    "traindata = pd.read_csv('./mnist_dataset/mnist_train.csv')\n",
    "traindata = np.array(traindata)\n",
    "m, n = traindata.shape\n",
    "\n",
    "np.random.shuffle(traindata)\n",
    "traindata = traindata.T\n",
    "\n",
    "Y_train = traindata[0]\n",
    "X_train = traindata[1:n]\n",
    "X_train = X_train / 255\n",
    "\n",
    "# Test Data\n",
    "testdata = pd.read_csv('./mnist_dataset/mnist_test.csv')\n",
    "testdata = np.array(testdata)\n",
    "m, n = testdata.shape\n",
    "\n",
    "np.random.shuffle(testdata)\n",
    "testdata = testdata.T\n",
    "\n",
    "Y_test = testdata[0]\n",
    "X_test = testdata[1:n]\n",
    "X_test = X_test / 255"
   ]
  },
  {
   "cell_type": "code",
   "execution_count": 21,
   "metadata": {},
   "outputs": [],
   "source": [
    "# Base Functions\n",
    "\n",
    "def ParamsInit():\n",
    "    # He Intitialization\n",
    "\n",
    "    w1 = np.random.randn(128, 784) * np.sqrt(2./784)\n",
    "    b1 = np.zeros((128, 1))\n",
    "\n",
    "    w2 = np.random.randn(64, 128) * np.sqrt(2./128)\n",
    "    b2 = np.zeros((64, 1))\n",
    "\n",
    "    w3 = np.random.randn(10, 64) * np.sqrt(2./64)\n",
    "    b3 = np.zeros((10, 1))\n",
    "\n",
    "    return w1, b1, w2, b2, w3, b3\n",
    "\n",
    "def ReLu(input):\n",
    "    # Returns 0 if below 0 and input if above 0\n",
    "    return np.maximum(input, 0)\n",
    "\n",
    "def ReLuDerivative(input):\n",
    "    # Returns 1 if input > 0 and otherwise will return 0.\n",
    "    return input > 0\n",
    "\n",
    "def Softmax(Z):\n",
    "    Z -= np.max(Z, axis=0)  # Subtract max value for numerical stability\n",
    "    A = np.exp(Z) / np.sum(np.exp(Z), axis=0)\n",
    "    return A\n",
    "\n",
    "def OneHot(Y):\n",
    "    OneHotY = np.zeros((Y.size, Y.max() + 1))\n",
    "    OneHotY[np.arange(Y.size), Y] = 1\n",
    "    OneHotY = OneHotY.T\n",
    "    return OneHotY\n",
    "\n",
    "def ForwardProp(w1, b1, w2, b2, w3, b3, X):\n",
    "\n",
    "    Z1 = w1.dot(X) + b1\n",
    "    A1 = ReLu(Z1)\n",
    "\n",
    "    Z2 = w2.dot(A1) + b2\n",
    "    A2 = ReLu(Z2)\n",
    "\n",
    "    Z3 = w3.dot(A2) + b3\n",
    "    A3 = Softmax(Z3)\n",
    "\n",
    "    return Z1, A1, Z2, A2, Z3, A3\n",
    "\n",
    "def BackProp(Z1, A1, Z2, A2, A3, X, Y, w3, w2):\n",
    "\n",
    "    OneHotY = OneHot(Y)\n",
    "    M = Y.size\n",
    "    \n",
    "    # Output Layer\n",
    "    dz3 = A3 - OneHotY # Calculuate Loss\n",
    "    dw3 = (1 / M) * dz3.dot(A2.T)\n",
    "    db3 = (1 / M) * np.sum(dz3, axis=0) \n",
    "\n",
    "    # Layer 2\n",
    "    dz2 = w3.T.dot(dz3) * ReLuDerivative(Z2)\n",
    "    dw2 = (1 / M) * dz2.dot(A1.T)\n",
    "    db2 = (1 / M) * np.sum(dz2, axis=0)\n",
    "\n",
    "    # Layer 1\n",
    "    dz1 = w2.T.dot(dz2) * ReLuDerivative(Z1) \n",
    "    dw1 = (1 / M) * dz1.dot(X.T) \n",
    "    db1 = (1 / M) * np.sum(dz1, axis=0) \n",
    "\n",
    "    return dw1, db1, dw2, db2, dw3, db3\n",
    "\n",
    "def UpdateParams(w1, b1, w2, b2, w3, b3, dw1, db1, dw2, db2, dw3, db3, alpha):\n",
    "    w1 = w1 - alpha * dw1\n",
    "    b1 = b1 - alpha * db1\n",
    "\n",
    "    w2 = w2 - alpha * dw2\n",
    "    b2 = b2 - alpha * db2\n",
    "\n",
    "    w3 = w3 - alpha * dw3\n",
    "    b3 = b3 - alpha * db3\n",
    "\n",
    "    return w1, b1, w2, b2, w3, b3"
   ]
  },
  {
   "cell_type": "code",
   "execution_count": 32,
   "metadata": {},
   "outputs": [],
   "source": [
    "# Gradient Descent\n",
    "\n",
    "def GetPred(A3):\n",
    "    return np.argmax(A3, 0)\n",
    "\n",
    "def GetAccuracy(Predictions, Y):\n",
    "    print(Predictions, Y)\n",
    "    return np.sum(Predictions == Y) / Y.size\n",
    "\n",
    "def GradientDescent(X, Y, EpochCount, alpha):\n",
    "    w1, b1, w2, b2, w3, b3 = ParamsInit()\n",
    "\n",
    "    for i in range(EpochCount):\n",
    "        # Forward Propagation\n",
    "        Z1, A1, Z2, A2, Z3, A3 = ForwardProp(w1, b1, w2, b2, w3, b3, X)\n",
    "\n",
    "        # Backward Propagation (Z3 is discarded here because we do not need to use it when calculating loss.)\n",
    "        dw1, db1, dw2, db2, dw3, db3 = BackProp(Z1, A1, Z2, A2, A3, X, Y, w3, w2)\n",
    "\n",
    "        # Adjust Parameters\n",
    "        w1, b1, w2, b2, w3, b3 = UpdateParams(w1, b1, w2, b2, w3, b3, dw1, db1, dw2, db2, dw3, db3, alpha)\n",
    "\n",
    "        if (i % 10 == 0):\n",
    "            print(\"Epoch:\", i)\n",
    "            print(f'Accuracy: {(GetAccuracy(GetPred(A3), Y) * 100)}%')\n",
    "\n",
    "    return w1, b1, w2, b2, w3, b3"
   ]
  },
  {
   "cell_type": "code",
   "execution_count": 33,
   "metadata": {},
   "outputs": [
    {
     "name": "stdout",
     "output_type": "stream",
     "text": [
      "Epoch: 0\n",
      "[5 9 6 ... 6 6 5] [0 0 6 ... 0 8 4]\n",
      "Accuracy: 14.535%\n",
      "Epoch: 10\n",
      "[0 0 6 ... 0 0 0] [0 0 6 ... 0 8 4]\n",
      "Accuracy: 58.29333333333333%\n",
      "Epoch: 20\n",
      "[0 0 6 ... 0 8 0] [0 0 6 ... 0 8 4]\n",
      "Accuracy: 75.15833333333333%\n",
      "Epoch: 30\n",
      "[0 0 6 ... 0 8 4] [0 0 6 ... 0 8 4]\n",
      "Accuracy: 80.97%\n",
      "Epoch: 40\n",
      "[0 0 6 ... 0 8 4] [0 0 6 ... 0 8 4]\n",
      "Accuracy: 83.64666666666668%\n",
      "Epoch: 50\n",
      "[0 0 6 ... 0 8 4] [0 0 6 ... 0 8 4]\n",
      "Accuracy: 85.32666666666667%\n",
      "Epoch: 60\n",
      "[0 0 6 ... 0 8 4] [0 0 6 ... 0 8 4]\n",
      "Accuracy: 86.46833333333333%\n",
      "Epoch: 70\n",
      "[0 0 6 ... 0 8 4] [0 0 6 ... 0 8 4]\n",
      "Accuracy: 87.29%\n",
      "Epoch: 80\n",
      "[0 0 6 ... 0 8 4] [0 0 6 ... 0 8 4]\n",
      "Accuracy: 87.96833333333333%\n",
      "Epoch: 90\n",
      "[0 0 6 ... 0 8 4] [0 0 6 ... 0 8 4]\n",
      "Accuracy: 88.46000000000001%\n",
      "Epoch: 100\n",
      "[0 0 6 ... 0 8 4] [0 0 6 ... 0 8 4]\n",
      "Accuracy: 88.95333333333333%\n",
      "Epoch: 110\n",
      "[0 0 6 ... 0 8 4] [0 0 6 ... 0 8 4]\n",
      "Accuracy: 89.375%\n",
      "Epoch: 120\n",
      "[0 0 6 ... 0 8 4] [0 0 6 ... 0 8 4]\n",
      "Accuracy: 89.705%\n",
      "Epoch: 130\n",
      "[0 0 6 ... 0 8 4] [0 0 6 ... 0 8 4]\n",
      "Accuracy: 89.985%\n",
      "Epoch: 140\n",
      "[0 0 6 ... 0 8 4] [0 0 6 ... 0 8 4]\n",
      "Accuracy: 90.19833333333334%\n",
      "Epoch: 150\n",
      "[0 0 6 ... 0 8 4] [0 0 6 ... 0 8 4]\n",
      "Accuracy: 90.435%\n",
      "Epoch: 160\n",
      "[0 0 6 ... 0 8 4] [0 0 6 ... 0 8 4]\n",
      "Accuracy: 90.65166666666667%\n",
      "Epoch: 170\n",
      "[0 0 6 ... 0 8 4] [0 0 6 ... 0 8 4]\n",
      "Accuracy: 90.84166666666667%\n",
      "Epoch: 180\n",
      "[0 0 6 ... 0 8 4] [0 0 6 ... 0 8 4]\n",
      "Accuracy: 91.005%\n",
      "Epoch: 190\n",
      "[0 0 6 ... 0 8 4] [0 0 6 ... 0 8 4]\n",
      "Accuracy: 91.16499999999999%\n"
     ]
    }
   ],
   "source": [
    "w1, b1, w2, b2, w3, b3 = GradientDescent(X_train, Y_train, 200, 0.1)"
   ]
  },
  {
   "cell_type": "markdown",
   "metadata": {},
   "source": [
    "* Achieves ~91% Accuracy"
   ]
  },
  {
   "cell_type": "code",
   "execution_count": 48,
   "metadata": {},
   "outputs": [],
   "source": [
    "def make_predictions(X, w1, b1, w2, b2, w3, b3):\n",
    "    _, _, _, _, _, A3 = ForwardProp(w1, b1, w2, b2, w3, b3, X)\n",
    "    predictions = GetPred(A3)\n",
    "    return predictions\n",
    "\n",
    "def test_prediction(index, w1, b1, w2, b2, w3, b3):\n",
    "    current_image = X_train[:, index, None]\n",
    "    prediction = make_predictions(X_train[:, index, None], w1, b1, w2, b2, w3, b3)\n",
    "    label = Y_train[index]\n",
    "    print(\"Prediction: \", prediction[0])\n",
    "    print(\"Label: \", label)\n",
    "    \n",
    "    current_image = current_image.reshape((28, 28)) * 255\n",
    "    plt.gray()\n",
    "    plt.imshow(current_image, interpolation='nearest')\n",
    "    plt.show()"
   ]
  },
  {
   "cell_type": "code",
   "execution_count": 49,
   "metadata": {},
   "outputs": [
    {
     "name": "stdout",
     "output_type": "stream",
     "text": [
      "Prediction:  0\n",
      "Label:  0\n"
     ]
    },
    {
     "data": {
      "image/png": "[encoded data removed]",
      "text/plain": [
       "<Figure size 640x480 with 1 Axes>"
      ]
     },
     "metadata": {},
     "output_type": "display_data"
    },
    {
     "name": "stdout",
     "output_type": "stream",
     "text": [
      "Prediction:  6\n",
      "Label:  6\n"
     ]
    },
    {
     "data": {
      "image/png": "[encoded data removed]",
      "text/plain": [
       "<Figure size 640x480 with 1 Axes>"
      ]
     },
     "metadata": {},
     "output_type": "display_data"
    },
    {
     "name": "stdout",
     "output_type": "stream",
     "text": [
      "Prediction:  2\n",
      "Label:  2\n"
     ]
    },
    {
     "data": {
      "image/png": "[encoded data removed]",
      "text/plain": [
       "<Figure size 640x480 with 1 Axes>"
      ]
     },
     "metadata": {},
     "output_type": "display_data"
    },
    {
     "name": "stdout",
     "output_type": "stream",
     "text": [
      "Prediction:  3\n",
      "Label:  3\n"
     ]
    },
    {
     "data": {
      "image/png": "[encoded data removed]",
      "text/plain": [
       "<Figure size 640x480 with 1 Axes>"
      ]
     },
     "metadata": {},
     "output_type": "display_data"
    }
   ],
   "source": [
    "test_prediction(1, w1, b1, w2, b2, w3, b3)\n",
    "test_prediction(2, w1, b1, w2, b2, w3, b3)\n",
    "test_prediction(3, w1, b1, w2, b2, w3, b3)\n",
    "test_prediction(4, w1, b1, w2, b2, w3, b3)"
   ]
  },
  {
   "cell_type": "code",
   "execution_count": 92,
   "metadata": {},
   "outputs": [
    {
     "name": "stdout",
     "output_type": "stream",
     "text": [
      "91.62\n"
     ]
    }
   ],
   "source": [
    "def make_predictions(X, w1, b1, w2, b2, w3, b3):\n",
    "    _, _, _, _, _, A3 = ForwardProp(w1, b1, w2, b2, w3, b3, X)\n",
    "    predictions = GetPred(A3)\n",
    "    return predictions\n",
    "\n",
    "def test_prediction(index, w1, b1, w2, b2, w3, b3):\n",
    "    current_image = X_test[:, index, None]\n",
    "    prediction = make_predictions(X_test[:, index, None], w1, b1, w2, b2, w3, b3)\n",
    "    label = Y_test[index]\n",
    "\n",
    "    return prediction[0], label\n",
    "\n",
    "test_accuracy = 0\n",
    "\n",
    "# Super Janked Function to test accuracy but having some issues with Shapes and Operations D: (Will fix later)\n",
    "for i in range(Y_test.shape[0]):\n",
    "    prediction, label = test_prediction(i, w1, b1, w2, b2, w3, b3)\n",
    "\n",
    "    if (prediction == label):\n",
    "        test_accuracy +=1\n",
    "    else: continue"
   ]
  },
  {
   "cell_type": "code",
   "execution_count": 97,
   "metadata": {},
   "outputs": [
    {
     "name": "stdout",
     "output_type": "stream",
     "text": [
      "Test Set Accuracy: 91.62%\n"
     ]
    }
   ],
   "source": [
    "print(f\"Test Set Accuracy: {(test_accuracy / Y_test.shape[0]) * 100}%\")"
   ]
  },
  {
   "cell_type": "markdown",
   "metadata": {},
   "source": [
    "* Cross Validation: ~92% Accuracy on Test Set :D"
   ]
  }
 ],
 "metadata": {
  "kernelspec": {
   "display_name": "Python 3",
   "language": "python",
   "name": "python3"
  },
  "language_info": {
   "codemirror_mode": {
    "name": "ipython",
    "version": 3
   },
   "file_extension": ".py",
   "mimetype": "text/x-python",
   "name": "python",
   "nbconvert_exporter": "python",
   "pygments_lexer": "ipython3",
   "version": "3.10.10"
  }
 },
 "nbformat": 4,
 "nbformat_minor": 2
}
