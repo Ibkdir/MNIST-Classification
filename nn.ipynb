{
 "cells": [
  {
   "cell_type": "code",
   "execution_count": 2,
   "metadata": {},
   "outputs": [],
   "source": [
    "import numpy as np\n",
    "import pandas as pd\n",
    "import matplotlib.pyplot as plt"
   ]
  },
  {
   "cell_type": "code",
   "execution_count": 3,
   "metadata": {},
   "outputs": [],
   "source": [
    "# Training Data\n",
    "traindata = pd.read_csv('./mnist_dataset/mnist_train.csv')\n",
    "traindata = np.array(traindata)\n",
    "m, n = traindata.shape\n",
    "\n",
    "np.random.shuffle(traindata)\n",
    "traindata = traindata.T\n",
    "\n",
    "Y_train = traindata[0]\n",
    "X_train = traindata[1:n]\n",
    "X_train = X_train / 255\n",
    "\n",
    "# Test Data\n",
    "testdata = pd.read_csv('./mnist_dataset/mnist_test.csv')\n",
    "testdata = np.array(testdata)\n",
    "m, n = testdata.shape\n",
    "\n",
    "np.random.shuffle(testdata)\n",
    "testdata = testdata.T\n",
    "\n",
    "Y_test = testdata[0]\n",
    "X_test = testdata[1:n]\n",
    "X_test = X_test / 255"
   ]
  },
  {
   "cell_type": "code",
   "execution_count": 4,
   "metadata": {},
   "outputs": [],
   "source": [
    "# Base Functions\n",
    "\n",
    "def ParamsInit():\n",
    "    # He Intitialization\n",
    "\n",
    "    w1 = np.random.randn(128, 784) * np.sqrt(2./784)\n",
    "    b1 = np.zeros((128, 1))\n",
    "\n",
    "    w2 = np.random.randn(64, 128) * np.sqrt(2./128)\n",
    "    b2 = np.zeros((64, 1))\n",
    "\n",
    "    w3 = np.random.randn(10, 64) * np.sqrt(2./64)\n",
    "    b3 = np.zeros((10, 1))\n",
    "\n",
    "    return w1, b1, w2, b2, w3, b3\n",
    "\n",
    "def ReLu(input):\n",
    "    # Returns 0 if below 0 and input if above 0\n",
    "    return np.maximum(input, 0)\n",
    "\n",
    "def ReLuDerivative(input):\n",
    "    # Returns 1 if input > 0 and otherwise will return 0.\n",
    "    return input > 0\n",
    "\n",
    "def Softmax(Z):\n",
    "    Z -= np.max(Z, axis=0)  # Subtract max value for numerical stability\n",
    "    A = np.exp(Z) / np.sum(np.exp(Z), axis=0)\n",
    "    return A\n",
    "\n",
    "def OneHot(Y):\n",
    "    OneHotY = np.zeros((Y.size, Y.max() + 1))\n",
    "    OneHotY[np.arange(Y.size), Y] = 1\n",
    "    OneHotY = OneHotY.T\n",
    "    return OneHotY\n",
    "\n",
    "def ForwardProp(w1, b1, w2, b2, w3, b3, X):\n",
    "\n",
    "    Z1 = w1.dot(X) + b1\n",
    "    A1 = ReLu(Z1)\n",
    "\n",
    "    Z2 = w2.dot(A1) + b2\n",
    "    A2 = ReLu(Z2)\n",
    "\n",
    "    Z3 = w3.dot(A2) + b3\n",
    "    A3 = Softmax(Z3)\n",
    "\n",
    "    return Z1, A1, Z2, A2, Z3, A3\n",
    "\n",
    "def BackProp(Z1, A1, Z2, A2, A3, X, Y, w3, w2):\n",
    "\n",
    "    OneHotY = OneHot(Y)\n",
    "    M = Y.size\n",
    "    \n",
    "    # Output Layer\n",
    "    dz3 = A3 - OneHotY # Calculuate Loss\n",
    "    dw3 = (1 / M) * dz3.dot(A2.T)\n",
    "    db3 = (1 / M) * np.sum(dz3, axis=0) \n",
    "\n",
    "    # Layer 2\n",
    "    dz2 = w3.T.dot(dz3) * ReLuDerivative(Z2)\n",
    "    dw2 = (1 / M) * dz2.dot(A1.T)\n",
    "    db2 = (1 / M) * np.sum(dz2, axis=0)\n",
    "\n",
    "    # Layer 1\n",
    "    dz1 = w2.T.dot(dz2) * ReLuDerivative(Z1) \n",
    "    dw1 = (1 / M) * dz1.dot(X.T) \n",
    "    db1 = (1 / M) * np.sum(dz1, axis=0) \n",
    "\n",
    "    return dw1, db1, dw2, db2, dw3, db3\n",
    "\n",
    "def UpdateParams(w1, b1, w2, b2, w3, b3, dw1, db1, dw2, db2, dw3, db3, alpha):\n",
    "    w1 = w1 - alpha * dw1\n",
    "    b1 = b1 - alpha * db1\n",
    "\n",
    "    w2 = w2 - alpha * dw2\n",
    "    b2 = b2 - alpha * db2\n",
    "\n",
    "    w3 = w3 - alpha * dw3\n",
    "    b3 = b3 - alpha * db3\n",
    "\n",
    "    return w1, b1, w2, b2, w3, b3"
   ]
  },
  {
   "cell_type": "code",
   "execution_count": 9,
   "metadata": {},
   "outputs": [],
   "source": [
    "# Gradient Descent\n",
    "\n",
    "def GetPred(A3):\n",
    "    return np.argmax(A3, 0)\n",
    "\n",
    "def GetAccuracy(Predictions, Y):\n",
    "    print(Predictions, Y)\n",
    "    return np.sum(Predictions == Y) / Y.size\n",
    "\n",
    "def GradientDescent(X, Y, EpochCount, alpha):\n",
    "    w1, b1, w2, b2, w3, b3 = ParamsInit()\n",
    "\n",
    "    for i in range(EpochCount):\n",
    "        # Forward Propagation\n",
    "        Z1, A1, Z2, A2, Z3, A3 = ForwardProp(w1, b1, w2, b2, w3, b3, X)\n",
    "\n",
    "        # Backward Propagation (Z3 is discarded here because we do not need to use it when calculating loss.)\n",
    "        dw1, db1, dw2, db2, dw3, db3 = BackProp(Z1, A1, Z2, A2, A3, X, Y, w3, w2)\n",
    "\n",
    "        # Adjust Parameters\n",
    "        w1, b1, w2, b2, w3, b3 = UpdateParams(w1, b1, w2, b2, w3, b3, dw1, db1, dw2, db2, dw3, db3, alpha)\n",
    "\n",
    "        if (i % 10 == 0):\n",
    "            print(\"Epoch:\", i)\n",
    "            print(f'Accuracy: {(GetAccuracy(GetPred(A3), Y) * 100)}%')\n",
    "\n",
    "    return w1, b1, w2, b2, w3, b3"
   ]
  },
  {
   "cell_type": "code",
   "execution_count": 11,
   "metadata": {},
   "outputs": [
    {
     "name": "stdout",
     "output_type": "stream",
     "text": [
      "Epoch: 0\n",
      "[7 0 7 ... 3 3 7] [7 4 3 ... 5 3 3]\n",
      "Accuracy: 11.441666666666666%\n",
      "Epoch: 10\n",
      "[7 4 3 ... 8 3 8] [7 4 3 ... 5 3 3]\n",
      "Accuracy: 68.085%\n",
      "Epoch: 20\n",
      "[7 4 3 ... 5 3 5] [7 4 3 ... 5 3 3]\n",
      "Accuracy: 78.92166666666667%\n",
      "Epoch: 30\n",
      "[7 4 3 ... 5 3 3] [7 4 3 ... 5 3 3]\n",
      "Accuracy: 83.10833333333333%\n",
      "Epoch: 40\n",
      "[7 4 3 ... 5 3 3] [7 4 3 ... 5 3 3]\n",
      "Accuracy: 85.275%\n",
      "Epoch: 50\n",
      "[7 4 3 ... 5 3 3] [7 4 3 ... 5 3 3]\n",
      "Accuracy: 86.44833333333334%\n",
      "Epoch: 60\n",
      "[7 4 3 ... 5 3 3] [7 4 3 ... 5 3 3]\n",
      "Accuracy: 87.26%\n",
      "Epoch: 70\n",
      "[7 4 3 ... 5 3 3] [7 4 3 ... 5 3 3]\n",
      "Accuracy: 87.87333333333333%\n",
      "Epoch: 80\n",
      "[7 4 3 ... 5 3 3] [7 4 3 ... 5 3 3]\n",
      "Accuracy: 88.08333333333334%\n",
      "Epoch: 90\n",
      "[7 4 3 ... 5 3 3] [7 4 3 ... 5 3 3]\n",
      "Accuracy: 88.44666666666666%\n",
      "Epoch: 100\n",
      "[7 4 3 ... 5 3 3] [7 4 3 ... 5 3 3]\n",
      "Accuracy: 89.18166666666667%\n",
      "Epoch: 110\n",
      "[7 4 3 ... 5 3 3] [7 4 3 ... 5 3 3]\n",
      "Accuracy: 89.64%\n",
      "Epoch: 120\n",
      "[7 4 3 ... 5 3 3] [7 4 3 ... 5 3 3]\n",
      "Accuracy: 89.97166666666668%\n",
      "Epoch: 130\n",
      "[7 4 3 ... 5 3 3] [7 4 3 ... 5 3 3]\n",
      "Accuracy: 90.21833333333333%\n",
      "Epoch: 140\n",
      "[7 4 3 ... 5 3 3] [7 4 3 ... 5 3 3]\n",
      "Accuracy: 90.46%\n",
      "Epoch: 150\n",
      "[7 4 3 ... 5 3 3] [7 4 3 ... 5 3 3]\n",
      "Accuracy: 90.66333333333333%\n",
      "Epoch: 160\n",
      "[7 4 3 ... 5 3 3] [7 4 3 ... 5 3 3]\n",
      "Accuracy: 90.86%\n",
      "Epoch: 170\n",
      "[7 4 3 ... 5 3 3] [7 4 3 ... 5 3 3]\n",
      "Accuracy: 91.04166666666667%\n",
      "Epoch: 180\n",
      "[7 4 3 ... 5 3 3] [7 4 3 ... 5 3 3]\n",
      "Accuracy: 91.20833333333334%\n",
      "Epoch: 190\n",
      "[7 4 3 ... 5 3 3] [7 4 3 ... 5 3 3]\n",
      "Accuracy: 91.37666666666667%\n"
     ]
    }
   ],
   "source": [
    "w1, b1, w2, b2, w3, b3 = GradientDescent(X_train, Y_train, 200, 0.1)"
   ]
  },
  {
   "cell_type": "markdown",
   "metadata": {},
   "source": [
    "* Achieves ~91% Accuracy"
   ]
  },
  {
   "cell_type": "code",
   "execution_count": 12,
   "metadata": {},
   "outputs": [],
   "source": [
    "def make_predictions(X, w1, b1, w2, b2, w3, b3):\n",
    "    _, _, _, _, _, A3 = ForwardProp(w1, b1, w2, b2, w3, b3, X)\n",
    "    predictions = GetPred(A3)\n",
    "    return predictions\n",
    "\n",
    "def test_prediction(index, w1, b1, w2, b2, w3, b3):\n",
    "    current_image = X_train[:, index, None]\n",
    "    prediction = make_predictions(X_train[:, index, None], w1, b1, w2, b2, w3, b3)\n",
    "    label = Y_train[index]\n",
    "    print(\"Prediction: \", prediction[0])\n",
    "    print(\"Label: \", label)\n",
    "    \n",
    "    current_image = current_image.reshape((28, 28)) * 255\n",
    "    plt.gray()\n",
    "    plt.imshow(current_image, interpolation='nearest')\n",
    "    plt.show()"
   ]
  },
  {
   "cell_type": "code",
   "execution_count": 14,
   "metadata": {},
   "outputs": [
    {
     "name": "stdout",
     "output_type": "stream",
     "text": [
      "Prediction:  4\n",
      "Label:  4\n"
     ]
    },
    {
     "data": {
      "image/png": "[encoded data removed]",
      "text/plain": [
       "<Figure size 640x480 with 1 Axes>"
      ]
     },
     "metadata": {},
     "output_type": "display_data"
    },
    {
     "name": "stdout",
     "output_type": "stream",
     "text": [
      "Prediction:  3\n",
      "Label:  3\n"
     ]
    },
    {
     "data": {
      "image/png": "[encoded data removed]",
      "text/plain": [
       "<Figure size 640x480 with 1 Axes>"
      ]
     },
     "metadata": {},
     "output_type": "display_data"
    },
    {
     "name": "stdout",
     "output_type": "stream",
     "text": [
      "Prediction:  4\n",
      "Label:  4\n"
     ]
    },
    {
     "data": {
      "image/png": "[encoded data removed]",
      "text/plain": [
       "<Figure size 640x480 with 1 Axes>"
      ]
     },
     "metadata": {},
     "output_type": "display_data"
    },
    {
     "name": "stdout",
     "output_type": "stream",
     "text": [
      "Prediction:  9\n",
      "Label:  9\n"
     ]
    },
    {
     "data": {
      "image/png": "[encoded data removed]",
      "text/plain": [
       "<Figure size 640x480 with 1 Axes>"
      ]
     },
     "metadata": {},
     "output_type": "display_data"
    }
   ],
   "source": [
    "test_prediction(1, w1, b1, w2, b2, w3, b3)\n",
    "test_prediction(2, w1, b1, w2, b2, w3, b3)\n",
    "test_prediction(3, w1, b1, w2, b2, w3, b3)\n",
    "test_prediction(4, w1, b1, w2, b2, w3, b3)\n"
   ]
  }
 ],
 "metadata": {
  "kernelspec": {
   "display_name": "Python 3",
   "language": "python",
   "name": "python3"
  },
  "language_info": {
   "codemirror_mode": {
    "name": "ipython",
    "version": 3
   },
   "file_extension": ".py",
   "mimetype": "text/x-python",
   "name": "python",
   "nbconvert_exporter": "python",
   "pygments_lexer": "ipython3",
   "version": "3.10.10"
  }
 },
 "nbformat": 4,
 "nbformat_minor": 2
}
